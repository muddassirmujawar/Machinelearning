{
 "cells": [
  {
   "cell_type": "code",
   "execution_count": 1,
   "metadata": {},
   "outputs": [],
   "source": [
    "import numpy as np\n",
    "import pandas as pd\n",
    "from sklearn.naive_bayes import GaussianNB\n",
    "from sklearn import metrics\n",
    "from sklearn.model_selection import train_test_split\n",
    "from sklearn.metrics import confusion_matrix\n",
    "from sklearn.metrics import classification_report\n",
    "from sklearn.metrics import accuracy_score"
   ]
  },
  {
   "cell_type": "code",
   "execution_count": 2,
   "metadata": {},
   "outputs": [
    {
     "name": "stdout",
     "output_type": "stream",
     "text": [
      "Dataset Length:  60\n",
      "Dataset Shape:  (60, 12)\n",
      "Dataset:\n",
      "     survie  still_alive   age  pceffusion  fraction_shorting    epss   lvdd  \\\n",
      "0    19.0            0  72.0           0              0.380   6.000  4.100   \n",
      "1    16.0            0  55.0           0              0.260   4.000  3.420   \n",
      "2    57.0            0  60.0           0              0.253  12.062  4.603   \n",
      "3    19.0            1  57.0           0              0.160  22.000  5.750   \n",
      "4    26.0            0  68.0           0              0.260   5.000  4.310   \n",
      "\n",
      "   wall_motion_score  wall_motion_index   mult  group  alive_at_1  \n",
      "0               14.0               1.70  0.588      1           0  \n",
      "1               14.0               1.00  1.000      1           0  \n",
      "2               16.0               1.45  0.788      1           0  \n",
      "3               18.0               2.25  0.571      1           0  \n",
      "4               12.0               1.00  0.857      1           0  \n"
     ]
    }
   ],
   "source": [
    "data = pd.read_csv('echocardiogram1.csv')\n",
    "# Printing the dataset shape\n",
    "print (\"Dataset Length: \", len(data))\n",
    "print (\"Dataset Shape: \", data.shape)\n",
    "# Printing the dataset obseravtions\n",
    "print (\"Dataset:\\n \",data.head())"
   ]
  },
  {
   "cell_type": "code",
   "execution_count": 3,
   "metadata": {},
   "outputs": [],
   "source": [
    "# data['class'],_ = pd.factorize(data['class'])\n",
    "## data.info()\n",
    "# Separating the target variable\n",
    "X = data.iloc[:, 0:11].values\n",
    "y = data.iloc[:, 11].values\n",
    "# Splitting the dataset into train and test\n",
    "# X_train, X_test, y_train, y_test = train_test_split(X, y, test_size = 0.25, random_state=0)\n"
   ]
  },
  {
   "cell_type": "code",
   "execution_count": 4,
   "metadata": {},
   "outputs": [
    {
     "data": {
      "text/html": [
       "<div>\n",
       "<style scoped>\n",
       "    .dataframe tbody tr th:only-of-type {\n",
       "        vertical-align: middle;\n",
       "    }\n",
       "\n",
       "    .dataframe tbody tr th {\n",
       "        vertical-align: top;\n",
       "    }\n",
       "\n",
       "    .dataframe thead th {\n",
       "        text-align: right;\n",
       "    }\n",
       "</style>\n",
       "<table border=\"1\" class=\"dataframe\">\n",
       "  <thead>\n",
       "    <tr style=\"text-align: right;\">\n",
       "      <th></th>\n",
       "      <th>survie</th>\n",
       "      <th>still_alive</th>\n",
       "      <th>age</th>\n",
       "      <th>pceffusion</th>\n",
       "      <th>fraction_shorting</th>\n",
       "      <th>epss</th>\n",
       "      <th>lvdd</th>\n",
       "      <th>wall_motion_score</th>\n",
       "      <th>wall_motion_index</th>\n",
       "      <th>mult</th>\n",
       "      <th>group</th>\n",
       "      <th>alive_at_1</th>\n",
       "    </tr>\n",
       "  </thead>\n",
       "  <tbody>\n",
       "    <tr>\n",
       "      <th>0</th>\n",
       "      <td>19.0</td>\n",
       "      <td>0</td>\n",
       "      <td>72.0</td>\n",
       "      <td>0</td>\n",
       "      <td>0.380</td>\n",
       "      <td>6.000</td>\n",
       "      <td>4.100</td>\n",
       "      <td>14.0</td>\n",
       "      <td>1.70</td>\n",
       "      <td>0.588</td>\n",
       "      <td>1</td>\n",
       "      <td>0</td>\n",
       "    </tr>\n",
       "    <tr>\n",
       "      <th>1</th>\n",
       "      <td>16.0</td>\n",
       "      <td>0</td>\n",
       "      <td>55.0</td>\n",
       "      <td>0</td>\n",
       "      <td>0.260</td>\n",
       "      <td>4.000</td>\n",
       "      <td>3.420</td>\n",
       "      <td>14.0</td>\n",
       "      <td>1.00</td>\n",
       "      <td>1.000</td>\n",
       "      <td>1</td>\n",
       "      <td>0</td>\n",
       "    </tr>\n",
       "    <tr>\n",
       "      <th>2</th>\n",
       "      <td>57.0</td>\n",
       "      <td>0</td>\n",
       "      <td>60.0</td>\n",
       "      <td>0</td>\n",
       "      <td>0.253</td>\n",
       "      <td>12.062</td>\n",
       "      <td>4.603</td>\n",
       "      <td>16.0</td>\n",
       "      <td>1.45</td>\n",
       "      <td>0.788</td>\n",
       "      <td>1</td>\n",
       "      <td>0</td>\n",
       "    </tr>\n",
       "    <tr>\n",
       "      <th>3</th>\n",
       "      <td>19.0</td>\n",
       "      <td>1</td>\n",
       "      <td>57.0</td>\n",
       "      <td>0</td>\n",
       "      <td>0.160</td>\n",
       "      <td>22.000</td>\n",
       "      <td>5.750</td>\n",
       "      <td>18.0</td>\n",
       "      <td>2.25</td>\n",
       "      <td>0.571</td>\n",
       "      <td>1</td>\n",
       "      <td>0</td>\n",
       "    </tr>\n",
       "    <tr>\n",
       "      <th>4</th>\n",
       "      <td>26.0</td>\n",
       "      <td>0</td>\n",
       "      <td>68.0</td>\n",
       "      <td>0</td>\n",
       "      <td>0.260</td>\n",
       "      <td>5.000</td>\n",
       "      <td>4.310</td>\n",
       "      <td>12.0</td>\n",
       "      <td>1.00</td>\n",
       "      <td>0.857</td>\n",
       "      <td>1</td>\n",
       "      <td>0</td>\n",
       "    </tr>\n",
       "  </tbody>\n",
       "</table>\n",
       "</div>"
      ],
      "text/plain": [
       "   survie  still_alive   age  pceffusion  fraction_shorting    epss   lvdd  \\\n",
       "0    19.0            0  72.0           0              0.380   6.000  4.100   \n",
       "1    16.0            0  55.0           0              0.260   4.000  3.420   \n",
       "2    57.0            0  60.0           0              0.253  12.062  4.603   \n",
       "3    19.0            1  57.0           0              0.160  22.000  5.750   \n",
       "4    26.0            0  68.0           0              0.260   5.000  4.310   \n",
       "\n",
       "   wall_motion_score  wall_motion_index   mult  group  alive_at_1  \n",
       "0               14.0               1.70  0.588      1           0  \n",
       "1               14.0               1.00  1.000      1           0  \n",
       "2               16.0               1.45  0.788      1           0  \n",
       "3               18.0               2.25  0.571      1           0  \n",
       "4               12.0               1.00  0.857      1           0  "
      ]
     },
     "execution_count": 4,
     "metadata": {},
     "output_type": "execute_result"
    }
   ],
   "source": [
    "data.head()"
   ]
  },
  {
   "cell_type": "code",
   "execution_count": 5,
   "metadata": {},
   "outputs": [
    {
     "data": {
      "text/plain": [
       "array([19.   ,  0.   , 72.   ,  0.   ,  0.38 ,  6.   ,  4.1  , 14.   ,\n",
       "        1.7  ,  0.588,  1.   ])"
      ]
     },
     "execution_count": 5,
     "metadata": {},
     "output_type": "execute_result"
    }
   ],
   "source": [
    "X[0]"
   ]
  },
  {
   "cell_type": "code",
   "execution_count": 6,
   "metadata": {},
   "outputs": [
    {
     "data": {
      "text/plain": [
       "0"
      ]
     },
     "execution_count": 6,
     "metadata": {},
     "output_type": "execute_result"
    }
   ],
   "source": [
    "y[0]"
   ]
  },
  {
   "cell_type": "code",
   "execution_count": 8,
   "metadata": {},
   "outputs": [],
   "source": [
    "from matplotlib.pyplot import scatter"
   ]
  },
  {
   "cell_type": "code",
   "execution_count": null,
   "metadata": {},
   "outputs": [],
   "source": []
  },
  {
   "cell_type": "code",
   "execution_count": null,
   "metadata": {},
   "outputs": [],
   "source": [
    "X_train, X_test, y_train, y_test = train_test_split(X, y, test_size = 0.25, random_state=0)\n"
   ]
  },
  {
   "cell_type": "code",
   "execution_count": null,
   "metadata": {},
   "outputs": [],
   "source": [
    "gnb = GaussianNB()\n",
    "gnb.fit(X_train, y_train)\n",
    "# making predictions on the testing set\n",
    "y_pred = gnb.predict(X_test)"
   ]
  },
  {
   "cell_type": "code",
   "execution_count": null,
   "metadata": {},
   "outputs": [
    {
     "name": "stdout",
     "output_type": "stream",
     "text": [
      "Results Using Gaussian Naive Bayes Classifier\n",
      "\n",
      "\n",
      "Confusion Matrix:\n",
      "  [[10  0]\n",
      " [ 0  5]]\n",
      "Accuracy :  100.0\n",
      "Report :\n",
      "                precision    recall  f1-score   support\n",
      "\n",
      "           0       1.00      1.00      1.00        10\n",
      "           1       1.00      1.00      1.00         5\n",
      "\n",
      "    accuracy                           1.00        15\n",
      "   macro avg       1.00      1.00      1.00        15\n",
      "weighted avg       1.00      1.00      1.00        15\n",
      "\n"
     ]
    }
   ],
   "source": [
    "print(\"Results Using Gaussian Naive Bayes Classifier\\n\\n\")\n",
    "print(\"Confusion Matrix:\\n \", confusion_matrix(y_test, y_pred))\n",
    "print (\"Accuracy : \", accuracy_score(y_test,y_pred)*100)\n",
    "print(\"Report :\\n \", classification_report(y_test, y_pred))"
   ]
  },
  {
   "cell_type": "code",
   "execution_count": null,
   "metadata": {},
   "outputs": [],
   "source": []
  }
 ],
 "metadata": {
  "interpreter": {
   "hash": "8fac594bfae6525c0c41b4041d2d72effa188cc8ead05f81b1fab2bb098927fb"
  },
  "kernelspec": {
   "display_name": "Python 3.9.7 ('base')",
   "language": "python",
   "name": "python3"
  },
  "language_info": {
   "codemirror_mode": {
    "name": "ipython",
    "version": 3
   },
   "file_extension": ".py",
   "mimetype": "text/x-python",
   "name": "python",
   "nbconvert_exporter": "python",
   "pygments_lexer": "ipython3",
   "version": "3.9.7"
  },
  "orig_nbformat": 4
 },
 "nbformat": 4,
 "nbformat_minor": 2
}
