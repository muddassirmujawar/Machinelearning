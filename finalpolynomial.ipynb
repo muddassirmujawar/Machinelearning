{
 "cells": [
  {
   "cell_type": "markdown",
   "metadata": {},
   "source": [
    "# Ticket price prediction with multiple polynomial regration ...\n"
   ]
  },
  {
   "cell_type": "code",
   "execution_count": 1,
   "metadata": {},
   "outputs": [],
   "source": [
    "# import numpy package for arrays and stuff\n",
    "import numpy as np \n",
    "  \n",
    "# import matplotlib.pyplot for plotting our result\n",
    "import matplotlib.pyplot as plt\n",
    "  \n",
    "# import pandas for importing csv files \n",
    "import pandas as pd\n",
    "from sklearn.model_selection import train_test_split"
   ]
  },
  {
   "cell_type": "markdown",
   "metadata": {},
   "source": [
    "## Pre process the data and formed new data set \n",
    "### 1) --in pre processing we had removed the source and destination column because the source and destionaltion are same for all datasets \n",
    "### 2)-- now in the guven dataset we were having the date and time columns of data type date and column now i had cinverted it to integer \n",
    "### 3)-- we were having the airline numbers as (alpha,beta,gamma,omega),converted those values to int respectively (2,1,0,3)\n",
    "### 4) next column we were having of refundable Ticket of type bool we changed it to integer \n",
    "### 5) one column of airine also we were having no of airlines..we changed it to integer as 1,2,3,4,5.... \n",
    "### 6) after doing this i had to normalize the data.\n",
    "### after doing all those steps i got new data set as finaltrain.csv now i will import this data set  and perform the operations in this dataset only "
   ]
  },
  {
   "cell_type": "code",
   "execution_count": 2,
   "metadata": {},
   "outputs": [
    {
     "data": {
      "text/html": [
       "<div>\n",
       "<style scoped>\n",
       "    .dataframe tbody tr th:only-of-type {\n",
       "        vertical-align: middle;\n",
       "    }\n",
       "\n",
       "    .dataframe tbody tr th {\n",
       "        vertical-align: top;\n",
       "    }\n",
       "\n",
       "    .dataframe thead th {\n",
       "        text-align: right;\n",
       "    }\n",
       "</style>\n",
       "<table border=\"1\" class=\"dataframe\">\n",
       "  <thead>\n",
       "    <tr style=\"text-align: right;\">\n",
       "      <th></th>\n",
       "      <th>Unnamed: 0</th>\n",
       "      <th>tic_date</th>\n",
       "      <th>dep_date</th>\n",
       "      <th>arr_date</th>\n",
       "      <th>airline</th>\n",
       "      <th>refund</th>\n",
       "      <th>bag_wt</th>\n",
       "      <th>bag_price</th>\n",
       "      <th>Flighi_no</th>\n",
       "      <th>Ticket_price</th>\n",
       "    </tr>\n",
       "  </thead>\n",
       "  <tbody>\n",
       "    <tr>\n",
       "      <th>0</th>\n",
       "      <td>0</td>\n",
       "      <td>0.577181</td>\n",
       "      <td>0.577435</td>\n",
       "      <td>0.577435</td>\n",
       "      <td>0.000000e+00</td>\n",
       "      <td>2.857158e-14</td>\n",
       "      <td>0.000000e+00</td>\n",
       "      <td>0.000000e+00</td>\n",
       "      <td>5.714316e-14</td>\n",
       "      <td>2.114297e-10</td>\n",
       "    </tr>\n",
       "    <tr>\n",
       "      <th>1</th>\n",
       "      <td>1</td>\n",
       "      <td>0.577181</td>\n",
       "      <td>0.577435</td>\n",
       "      <td>0.577435</td>\n",
       "      <td>0.000000e+00</td>\n",
       "      <td>2.857158e-14</td>\n",
       "      <td>9.142906e-13</td>\n",
       "      <td>2.857158e-14</td>\n",
       "      <td>5.714316e-14</td>\n",
       "      <td>2.471442e-10</td>\n",
       "    </tr>\n",
       "    <tr>\n",
       "      <th>2</th>\n",
       "      <td>2</td>\n",
       "      <td>0.577181</td>\n",
       "      <td>0.577435</td>\n",
       "      <td>0.577435</td>\n",
       "      <td>0.000000e+00</td>\n",
       "      <td>2.857158e-14</td>\n",
       "      <td>9.142906e-13</td>\n",
       "      <td>2.857158e-14</td>\n",
       "      <td>2.857158e-14</td>\n",
       "      <td>2.614300e-10</td>\n",
       "    </tr>\n",
       "    <tr>\n",
       "      <th>3</th>\n",
       "      <td>3</td>\n",
       "      <td>0.577181</td>\n",
       "      <td>0.577435</td>\n",
       "      <td>0.577435</td>\n",
       "      <td>0.000000e+00</td>\n",
       "      <td>2.857158e-14</td>\n",
       "      <td>9.142906e-13</td>\n",
       "      <td>5.714316e-14</td>\n",
       "      <td>2.857158e-14</td>\n",
       "      <td>2.971445e-10</td>\n",
       "    </tr>\n",
       "    <tr>\n",
       "      <th>4</th>\n",
       "      <td>4</td>\n",
       "      <td>0.577181</td>\n",
       "      <td>0.577435</td>\n",
       "      <td>0.577435</td>\n",
       "      <td>2.857157e-14</td>\n",
       "      <td>0.000000e+00</td>\n",
       "      <td>5.714314e-13</td>\n",
       "      <td>0.000000e+00</td>\n",
       "      <td>3.142872e-13</td>\n",
       "      <td>2.484869e-10</td>\n",
       "    </tr>\n",
       "  </tbody>\n",
       "</table>\n",
       "</div>"
      ],
      "text/plain": [
       "   Unnamed: 0  tic_date  dep_date  arr_date      airline        refund   \\\n",
       "0           0  0.577181  0.577435  0.577435  0.000000e+00  2.857158e-14   \n",
       "1           1  0.577181  0.577435  0.577435  0.000000e+00  2.857158e-14   \n",
       "2           2  0.577181  0.577435  0.577435  0.000000e+00  2.857158e-14   \n",
       "3           3  0.577181  0.577435  0.577435  0.000000e+00  2.857158e-14   \n",
       "4           4  0.577181  0.577435  0.577435  2.857157e-14  0.000000e+00   \n",
       "\n",
       "        bag_wt     bag_price     Flighi_no   Ticket_price   \n",
       "0  0.000000e+00  0.000000e+00  5.714316e-14   2.114297e-10  \n",
       "1  9.142906e-13  2.857158e-14  5.714316e-14   2.471442e-10  \n",
       "2  9.142906e-13  2.857158e-14  2.857158e-14   2.614300e-10  \n",
       "3  9.142906e-13  5.714316e-14  2.857158e-14   2.971445e-10  \n",
       "4  5.714314e-13  0.000000e+00  3.142872e-13   2.484869e-10  "
      ]
     },
     "execution_count": 2,
     "metadata": {},
     "output_type": "execute_result"
    }
   ],
   "source": [
    "# import dataset\n",
    "dataset = pd.read_csv('finaltrain.csv') \n",
    "# alternatively open up .csv file to read data\n",
    "# print the dataset\n",
    "dataset.head() "
   ]
  },
  {
   "cell_type": "code",
   "execution_count": 3,
   "metadata": {},
   "outputs": [],
   "source": [
    "# in this we got one column of unnamed therefore we have to drop that column  \n",
    "dataset.drop(\"Unnamed: 0\",axis=1,inplace=True)"
   ]
  },
  {
   "cell_type": "code",
   "execution_count": 4,
   "metadata": {},
   "outputs": [
    {
     "data": {
      "text/html": [
       "<div>\n",
       "<style scoped>\n",
       "    .dataframe tbody tr th:only-of-type {\n",
       "        vertical-align: middle;\n",
       "    }\n",
       "\n",
       "    .dataframe tbody tr th {\n",
       "        vertical-align: top;\n",
       "    }\n",
       "\n",
       "    .dataframe thead th {\n",
       "        text-align: right;\n",
       "    }\n",
       "</style>\n",
       "<table border=\"1\" class=\"dataframe\">\n",
       "  <thead>\n",
       "    <tr style=\"text-align: right;\">\n",
       "      <th></th>\n",
       "      <th>tic_date</th>\n",
       "      <th>dep_date</th>\n",
       "      <th>arr_date</th>\n",
       "      <th>airline</th>\n",
       "      <th>refund</th>\n",
       "      <th>bag_wt</th>\n",
       "      <th>bag_price</th>\n",
       "      <th>Flighi_no</th>\n",
       "      <th>Ticket_price</th>\n",
       "    </tr>\n",
       "  </thead>\n",
       "  <tbody>\n",
       "    <tr>\n",
       "      <th>0</th>\n",
       "      <td>0.577181</td>\n",
       "      <td>0.577435</td>\n",
       "      <td>0.577435</td>\n",
       "      <td>0.000000e+00</td>\n",
       "      <td>2.857158e-14</td>\n",
       "      <td>0.000000e+00</td>\n",
       "      <td>0.000000e+00</td>\n",
       "      <td>5.714316e-14</td>\n",
       "      <td>2.114297e-10</td>\n",
       "    </tr>\n",
       "    <tr>\n",
       "      <th>1</th>\n",
       "      <td>0.577181</td>\n",
       "      <td>0.577435</td>\n",
       "      <td>0.577435</td>\n",
       "      <td>0.000000e+00</td>\n",
       "      <td>2.857158e-14</td>\n",
       "      <td>9.142906e-13</td>\n",
       "      <td>2.857158e-14</td>\n",
       "      <td>5.714316e-14</td>\n",
       "      <td>2.471442e-10</td>\n",
       "    </tr>\n",
       "    <tr>\n",
       "      <th>2</th>\n",
       "      <td>0.577181</td>\n",
       "      <td>0.577435</td>\n",
       "      <td>0.577435</td>\n",
       "      <td>0.000000e+00</td>\n",
       "      <td>2.857158e-14</td>\n",
       "      <td>9.142906e-13</td>\n",
       "      <td>2.857158e-14</td>\n",
       "      <td>2.857158e-14</td>\n",
       "      <td>2.614300e-10</td>\n",
       "    </tr>\n",
       "    <tr>\n",
       "      <th>3</th>\n",
       "      <td>0.577181</td>\n",
       "      <td>0.577435</td>\n",
       "      <td>0.577435</td>\n",
       "      <td>0.000000e+00</td>\n",
       "      <td>2.857158e-14</td>\n",
       "      <td>9.142906e-13</td>\n",
       "      <td>5.714316e-14</td>\n",
       "      <td>2.857158e-14</td>\n",
       "      <td>2.971445e-10</td>\n",
       "    </tr>\n",
       "    <tr>\n",
       "      <th>4</th>\n",
       "      <td>0.577181</td>\n",
       "      <td>0.577435</td>\n",
       "      <td>0.577435</td>\n",
       "      <td>2.857157e-14</td>\n",
       "      <td>0.000000e+00</td>\n",
       "      <td>5.714314e-13</td>\n",
       "      <td>0.000000e+00</td>\n",
       "      <td>3.142872e-13</td>\n",
       "      <td>2.484869e-10</td>\n",
       "    </tr>\n",
       "  </tbody>\n",
       "</table>\n",
       "</div>"
      ],
      "text/plain": [
       "   tic_date  dep_date  arr_date      airline        refund        bag_wt   \\\n",
       "0  0.577181  0.577435  0.577435  0.000000e+00  2.857158e-14  0.000000e+00   \n",
       "1  0.577181  0.577435  0.577435  0.000000e+00  2.857158e-14  9.142906e-13   \n",
       "2  0.577181  0.577435  0.577435  0.000000e+00  2.857158e-14  9.142906e-13   \n",
       "3  0.577181  0.577435  0.577435  0.000000e+00  2.857158e-14  9.142906e-13   \n",
       "4  0.577181  0.577435  0.577435  2.857157e-14  0.000000e+00  5.714314e-13   \n",
       "\n",
       "     bag_price     Flighi_no   Ticket_price   \n",
       "0  0.000000e+00  5.714316e-14   2.114297e-10  \n",
       "1  2.857158e-14  5.714316e-14   2.471442e-10  \n",
       "2  2.857158e-14  2.857158e-14   2.614300e-10  \n",
       "3  5.714316e-14  2.857158e-14   2.971445e-10  \n",
       "4  0.000000e+00  3.142872e-13   2.484869e-10  "
      ]
     },
     "execution_count": 4,
     "metadata": {},
     "output_type": "execute_result"
    }
   ],
   "source": [
    "dataset.head()"
   ]
  },
  {
   "cell_type": "code",
   "execution_count": 5,
   "metadata": {},
   "outputs": [],
   "source": [
    "# assigning the feature vector to x and target vector to y \n",
    "x= dataset.iloc[:, 0:8].values\n",
    "y=dataset.iloc[:,8].values"
   ]
  },
  {
   "cell_type": "code",
   "execution_count": 6,
   "metadata": {},
   "outputs": [
    {
     "data": {
      "text/plain": [
       "array([5.77181133e-01, 5.77434819e-01, 5.77434819e-01, 0.00000000e+00,\n",
       "       2.85715821e-14, 0.00000000e+00, 0.00000000e+00, 5.71431642e-14])"
      ]
     },
     "execution_count": 6,
     "metadata": {},
     "output_type": "execute_result"
    }
   ],
   "source": [
    "# cheking the allocation of x and y \n",
    "x[0]"
   ]
  },
  {
   "cell_type": "code",
   "execution_count": 7,
   "metadata": {},
   "outputs": [
    {
     "data": {
      "text/plain": [
       "2.1142970754158496e-10"
      ]
     },
     "execution_count": 7,
     "metadata": {},
     "output_type": "execute_result"
    }
   ],
   "source": [
    "y[0]"
   ]
  },
  {
   "cell_type": "code",
   "execution_count": 9,
   "metadata": {},
   "outputs": [],
   "source": [
    "# spliting the data into train and test as 80% train and 20% test data \n",
    "x_train, x_test, y_train, y_test = train_test_split(x, y, test_size = 0.2, random_state = 20)"
   ]
  },
  {
   "cell_type": "code",
   "execution_count": 10,
   "metadata": {},
   "outputs": [
    {
     "data": {
      "text/plain": [
       "LinearRegression()"
      ]
     },
     "execution_count": 10,
     "metadata": {},
     "output_type": "execute_result"
    }
   ],
   "source": [
    "# fitting the model in polynomial regration with degree 2\n",
    "from sklearn.linear_model import LinearRegression  \n",
    "lin_regs= LinearRegression()  \n",
    "lin_regs.fit(x_train,y_train)"
   ]
  },
  {
   "cell_type": "code",
   "execution_count": 16,
   "metadata": {},
   "outputs": [
    {
     "ename": "MemoryError",
     "evalue": "Unable to allocate 36.7 GiB for an array with shape (9937678, 495) and data type float64",
     "output_type": "error",
     "traceback": [
      "\u001b[1;31m---------------------------------------------------------------------------\u001b[0m",
      "\u001b[1;31mMemoryError\u001b[0m                               Traceback (most recent call last)",
      "\u001b[1;32m~\\AppData\\Local\\Temp/ipykernel_12620/3340004735.py\u001b[0m in \u001b[0;36m<module>\u001b[1;34m\u001b[0m\n\u001b[0;32m      2\u001b[0m \u001b[1;32mfrom\u001b[0m \u001b[0msklearn\u001b[0m\u001b[1;33m.\u001b[0m\u001b[0mpreprocessing\u001b[0m \u001b[1;32mimport\u001b[0m \u001b[0mPolynomialFeatures\u001b[0m\u001b[1;33m\u001b[0m\u001b[1;33m\u001b[0m\u001b[0m\n\u001b[0;32m      3\u001b[0m \u001b[0mpoly_regs\u001b[0m\u001b[1;33m=\u001b[0m \u001b[0mPolynomialFeatures\u001b[0m\u001b[1;33m(\u001b[0m\u001b[0mdegree\u001b[0m\u001b[1;33m=\u001b[0m \u001b[1;36m4\u001b[0m\u001b[1;33m)\u001b[0m\u001b[1;33m\u001b[0m\u001b[1;33m\u001b[0m\u001b[0m\n\u001b[1;32m----> 4\u001b[1;33m \u001b[0mx_poly\u001b[0m\u001b[1;33m=\u001b[0m \u001b[0mpoly_regs\u001b[0m\u001b[1;33m.\u001b[0m\u001b[0mfit_transform\u001b[0m\u001b[1;33m(\u001b[0m\u001b[0mx_train\u001b[0m\u001b[1;33m)\u001b[0m\u001b[1;33m\u001b[0m\u001b[1;33m\u001b[0m\u001b[0m\n\u001b[0m\u001b[0;32m      5\u001b[0m \u001b[0mlin_reg_2\u001b[0m \u001b[1;33m=\u001b[0m\u001b[0mLinearRegression\u001b[0m\u001b[1;33m(\u001b[0m\u001b[1;33m)\u001b[0m\u001b[1;33m\u001b[0m\u001b[1;33m\u001b[0m\u001b[0m\n\u001b[0;32m      6\u001b[0m \u001b[0mlin_reg_2\u001b[0m\u001b[1;33m.\u001b[0m\u001b[0mfit\u001b[0m\u001b[1;33m(\u001b[0m\u001b[0mx_poly\u001b[0m\u001b[1;33m,\u001b[0m \u001b[0my_train\u001b[0m\u001b[1;33m)\u001b[0m\u001b[1;33m\u001b[0m\u001b[1;33m\u001b[0m\u001b[0m\n",
      "\u001b[1;32m~\\anaconda3\\lib\\site-packages\\sklearn\\base.py\u001b[0m in \u001b[0;36mfit_transform\u001b[1;34m(self, X, y, **fit_params)\u001b[0m\n\u001b[0;32m    697\u001b[0m         \u001b[1;32mif\u001b[0m \u001b[0my\u001b[0m \u001b[1;32mis\u001b[0m \u001b[1;32mNone\u001b[0m\u001b[1;33m:\u001b[0m\u001b[1;33m\u001b[0m\u001b[1;33m\u001b[0m\u001b[0m\n\u001b[0;32m    698\u001b[0m             \u001b[1;31m# fit method of arity 1 (unsupervised transformation)\u001b[0m\u001b[1;33m\u001b[0m\u001b[1;33m\u001b[0m\u001b[0m\n\u001b[1;32m--> 699\u001b[1;33m             \u001b[1;32mreturn\u001b[0m \u001b[0mself\u001b[0m\u001b[1;33m.\u001b[0m\u001b[0mfit\u001b[0m\u001b[1;33m(\u001b[0m\u001b[0mX\u001b[0m\u001b[1;33m,\u001b[0m \u001b[1;33m**\u001b[0m\u001b[0mfit_params\u001b[0m\u001b[1;33m)\u001b[0m\u001b[1;33m.\u001b[0m\u001b[0mtransform\u001b[0m\u001b[1;33m(\u001b[0m\u001b[0mX\u001b[0m\u001b[1;33m)\u001b[0m\u001b[1;33m\u001b[0m\u001b[1;33m\u001b[0m\u001b[0m\n\u001b[0m\u001b[0;32m    700\u001b[0m         \u001b[1;32melse\u001b[0m\u001b[1;33m:\u001b[0m\u001b[1;33m\u001b[0m\u001b[1;33m\u001b[0m\u001b[0m\n\u001b[0;32m    701\u001b[0m             \u001b[1;31m# fit method of arity 2 (supervised transformation)\u001b[0m\u001b[1;33m\u001b[0m\u001b[1;33m\u001b[0m\u001b[0m\n",
      "\u001b[1;32m~\\anaconda3\\lib\\site-packages\\sklearn\\preprocessing\\_data.py\u001b[0m in \u001b[0;36mtransform\u001b[1;34m(self, X)\u001b[0m\n\u001b[0;32m   1785\u001b[0m                 \u001b[0mXP\u001b[0m \u001b[1;33m=\u001b[0m \u001b[0msparse\u001b[0m\u001b[1;33m.\u001b[0m\u001b[0mhstack\u001b[0m\u001b[1;33m(\u001b[0m\u001b[0mcolumns\u001b[0m\u001b[1;33m,\u001b[0m \u001b[0mdtype\u001b[0m\u001b[1;33m=\u001b[0m\u001b[0mX\u001b[0m\u001b[1;33m.\u001b[0m\u001b[0mdtype\u001b[0m\u001b[1;33m)\u001b[0m\u001b[1;33m.\u001b[0m\u001b[0mtocsc\u001b[0m\u001b[1;33m(\u001b[0m\u001b[1;33m)\u001b[0m\u001b[1;33m\u001b[0m\u001b[1;33m\u001b[0m\u001b[0m\n\u001b[0;32m   1786\u001b[0m             \u001b[1;32melse\u001b[0m\u001b[1;33m:\u001b[0m\u001b[1;33m\u001b[0m\u001b[1;33m\u001b[0m\u001b[0m\n\u001b[1;32m-> 1787\u001b[1;33m                 XP = np.empty((n_samples, self.n_output_features_),\n\u001b[0m\u001b[0;32m   1788\u001b[0m                               dtype=X.dtype, order=self.order)\n\u001b[0;32m   1789\u001b[0m \u001b[1;33m\u001b[0m\u001b[0m\n",
      "\u001b[1;31mMemoryError\u001b[0m: Unable to allocate 36.7 GiB for an array with shape (9937678, 495) and data type float64"
     ]
    }
   ],
   "source": [
    "#Fitting the Polynomial regression to the dataset \n",
    "from sklearn.preprocessing import PolynomialFeatures  \n",
    "poly_regs= PolynomialFeatures(degree= 4)  \n",
    "x_poly= poly_regs.fit_transform(x_train)  \n",
    "lin_reg_2 =LinearRegression()  \n",
    "lin_reg_2.fit(x_poly, y_train) "
   ]
  },
  {
   "cell_type": "code",
   "execution_count": null,
   "metadata": {},
   "outputs": [
    {
     "name": "stdout",
     "output_type": "stream",
     "text": [
      "[2.80124368e-10 2.67391442e-10 2.87400326e-10 ... 2.92857294e-10\n",
      " 2.85581336e-10 2.67391442e-10]\n"
     ]
    }
   ],
   "source": [
    "# predicted output for polynomial regration \n",
    "yp_pred = lin_reg_2.predict(poly_regs.fit_transform(x_test))  \n",
    "print(yp_pred)"
   ]
  },
  {
   "cell_type": "code",
   "execution_count": 17,
   "metadata": {},
   "outputs": [],
   "source": [
    "# importing r2_score module and mean sqared error\n",
    "# predicting the accuracy score\n",
    "\n",
    "from sklearn.metrics import r2_score\n",
    "from sklearn.metrics import mean_squared_error"
   ]
  },
  {
   "cell_type": "code",
   "execution_count": 18,
   "metadata": {},
   "outputs": [
    {
     "name": "stdout",
     "output_type": "stream",
     "text": [
      "R2 score for the model :- 0.06783362035008877\n",
      "root_mean_squared error of model is:= 6.519559992947652e-11\n"
     ]
    }
   ],
   "source": [
    "scorep=r2_score(y_test,yp_pred)\n",
    "print(\"R2 score for the model :-\",scorep)\n",
    "mse=mean_squared_error(y_test,yp_pred)\n",
    "rmsel=np.sqrt(mean_squared_error(y_test,yp_pred))\n",
    "print(\"root_mean_squared error of model is:=\",rmsel)"
   ]
  },
  {
   "cell_type": "code",
   "execution_count": null,
   "metadata": {},
   "outputs": [],
   "source": []
  }
 ],
 "metadata": {
  "interpreter": {
   "hash": "8fac594bfae6525c0c41b4041d2d72effa188cc8ead05f81b1fab2bb098927fb"
  },
  "kernelspec": {
   "display_name": "Python 3.9.7 ('base')",
   "language": "python",
   "name": "python3"
  },
  "language_info": {
   "codemirror_mode": {
    "name": "ipython",
    "version": 3
   },
   "file_extension": ".py",
   "mimetype": "text/x-python",
   "name": "python",
   "nbconvert_exporter": "python",
   "pygments_lexer": "ipython3",
   "version": "3.9.7"
  },
  "orig_nbformat": 4
 },
 "nbformat": 4,
 "nbformat_minor": 2
}
