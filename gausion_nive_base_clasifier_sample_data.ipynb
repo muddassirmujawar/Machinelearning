{
 "cells": [
  {
   "cell_type": "code",
   "execution_count": 1,
   "metadata": {},
   "outputs": [],
   "source": [
    "import numpy as np\n",
    "import pandas as pd\n",
    "from sklearn.naive_bayes import GaussianNB\n",
    "from sklearn import metrics\n",
    "from sklearn.model_selection import train_test_split\n",
    "from sklearn.metrics import confusion_matrix\n",
    "from sklearn.metrics import classification_report\n",
    "from sklearn.metrics import accuracy_score"
   ]
  },
  {
   "cell_type": "code",
   "execution_count": 2,
   "metadata": {},
   "outputs": [
    {
     "name": "stdout",
     "output_type": "stream",
     "text": [
      "Dataset Length:  400\n",
      "Dataset Shape:  (400, 5)\n",
      "Dataset:\n",
      "      User ID  Gender  Age  Salary  PurchasedTheProduct\n",
      "0  15624510    Male   19   19000                    0\n",
      "1  15810944    Male   35   20000                    0\n",
      "2  15668575  Female   26   43000                    0\n",
      "3  15603246  Female   27   57000                    0\n",
      "4  15804002    Male   19   76000                    0\n"
     ]
    }
   ],
   "source": [
    "data = pd.read_csv('Sample_Data.csv')\n",
    "# Printing the dataset shape\n",
    "print (\"Dataset Length: \", len(data))\n",
    "print (\"Dataset Shape: \", data.shape)\n",
    "# Printing the dataset obseravtions\n",
    "print (\"Dataset:\\n \",data.head())"
   ]
  },
  {
   "cell_type": "code",
   "execution_count": 3,
   "metadata": {},
   "outputs": [],
   "source": [
    "data['Gender'],_ = pd.factorize(data['Gender'])\n",
    "## data.info()\n",
    "# Separating the target variable\n",
    "X = data.iloc[:, 1:3].values\n",
    "y = data.iloc[:, 4].values\n",
    "# Splitting the dataset into train and test\n",
    "X_train, X_test, y_train, y_test = train_test_split(X, y, test_size = 0.25, random_state=0)\n"
   ]
  },
  {
   "cell_type": "code",
   "execution_count": 4,
   "metadata": {},
   "outputs": [],
   "source": [
    "gnb = GaussianNB()\n",
    "gnb.fit(X_train, y_train)\n",
    "# making predictions on the testing set\n",
    "y_pred = gnb.predict(X_test)"
   ]
  },
  {
   "cell_type": "code",
   "execution_count": 5,
   "metadata": {},
   "outputs": [
    {
     "name": "stdout",
     "output_type": "stream",
     "text": [
      "Results Using Gaussian Naive Bayes Classifier\n",
      "\n",
      "\n",
      "Confusion Matrix:\n",
      "  [[66  2]\n",
      " [ 8 24]]\n",
      "Accuracy :  90.0\n",
      "Report :\n",
      "                precision    recall  f1-score   support\n",
      "\n",
      "           0       0.89      0.97      0.93        68\n",
      "           1       0.92      0.75      0.83        32\n",
      "\n",
      "    accuracy                           0.90       100\n",
      "   macro avg       0.91      0.86      0.88       100\n",
      "weighted avg       0.90      0.90      0.90       100\n",
      "\n"
     ]
    }
   ],
   "source": [
    "print(\"Results Using Gaussian Naive Bayes Classifier\\n\\n\")\n",
    "print(\"Confusion Matrix:\\n \", confusion_matrix(y_test, y_pred))\n",
    "print (\"Accuracy : \", accuracy_score(y_test,y_pred)*100)\n",
    "print(\"Report :\\n \", classification_report(y_test, y_pred))"
   ]
  },
  {
   "cell_type": "code",
   "execution_count": null,
   "metadata": {},
   "outputs": [],
   "source": []
  }
 ],
 "metadata": {
  "interpreter": {
   "hash": "8fac594bfae6525c0c41b4041d2d72effa188cc8ead05f81b1fab2bb098927fb"
  },
  "kernelspec": {
   "display_name": "Python 3.9.7 ('base')",
   "language": "python",
   "name": "python3"
  },
  "language_info": {
   "codemirror_mode": {
    "name": "ipython",
    "version": 3
   },
   "file_extension": ".py",
   "mimetype": "text/x-python",
   "name": "python",
   "nbconvert_exporter": "python",
   "pygments_lexer": "ipython3",
   "version": "3.9.7"
  },
  "orig_nbformat": 4
 },
 "nbformat": 4,
 "nbformat_minor": 2
}
