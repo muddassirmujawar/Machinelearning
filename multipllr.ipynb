{
 "cells": [
  {
   "cell_type": "markdown",
   "metadata": {},
   "source": [
    "## Pre process the data and formed new data set \n",
    "### 1) --in pre processing we had removed the source and destination column because the source and destionaltion are same for all datasets \n",
    "### 2)-- now in the guven dataset we were having the date and time columns of data type date and column now i had cinverted it to integer \n",
    "### 3)-- we were having the airline numbers as (alpha,beta,gamma,omega),converted those values to int respectively (2,1,0,3)\n",
    "### 4) next column we were having of refundable Ticket of type bool we changed it to integer \n",
    "### 5) one column of airine also we were having no of airlines..we changed it to integer as 1,2,3,4,5.... \n",
    "### 6) after doing this i had to normalize the data.\n",
    "### after doing all those steps i got new data set as finaltrain.csv now i will import this data set  and perform the operations in this dataset only "
   ]
  },
  {
   "cell_type": "code",
   "execution_count": 2,
   "metadata": {},
   "outputs": [],
   "source": [
    "# import numpy package for arrays and stuff\n",
    "import numpy as np \n",
    "  \n",
    "# import matplotlib.pyplot for plotting our result\n",
    "import matplotlib.pyplot as plt\n",
    "  \n",
    "# import pandas for importing csv files \n",
    "import pandas as pd "
   ]
  },
  {
   "cell_type": "code",
   "execution_count": 3,
   "metadata": {},
   "outputs": [],
   "source": [
    "from sklearn.model_selection import train_test_split"
   ]
  },
  {
   "cell_type": "code",
   "execution_count": 4,
   "metadata": {},
   "outputs": [
    {
     "data": {
      "text/html": [
       "<div>\n",
       "<style scoped>\n",
       "    .dataframe tbody tr th:only-of-type {\n",
       "        vertical-align: middle;\n",
       "    }\n",
       "\n",
       "    .dataframe tbody tr th {\n",
       "        vertical-align: top;\n",
       "    }\n",
       "\n",
       "    .dataframe thead th {\n",
       "        text-align: right;\n",
       "    }\n",
       "</style>\n",
       "<table border=\"1\" class=\"dataframe\">\n",
       "  <thead>\n",
       "    <tr style=\"text-align: right;\">\n",
       "      <th></th>\n",
       "      <th>Unnamed: 0</th>\n",
       "      <th>tic_date</th>\n",
       "      <th>dep_date</th>\n",
       "      <th>arr_date</th>\n",
       "      <th>airline</th>\n",
       "      <th>refund</th>\n",
       "      <th>bag_wt</th>\n",
       "      <th>bag_price</th>\n",
       "      <th>Flighi_no</th>\n",
       "      <th>Ticket_price</th>\n",
       "    </tr>\n",
       "  </thead>\n",
       "  <tbody>\n",
       "    <tr>\n",
       "      <th>0</th>\n",
       "      <td>0</td>\n",
       "      <td>0.577181</td>\n",
       "      <td>0.577435</td>\n",
       "      <td>0.577435</td>\n",
       "      <td>0.000000e+00</td>\n",
       "      <td>2.857158e-14</td>\n",
       "      <td>0.000000e+00</td>\n",
       "      <td>0.000000e+00</td>\n",
       "      <td>5.714316e-14</td>\n",
       "      <td>2.114297e-10</td>\n",
       "    </tr>\n",
       "    <tr>\n",
       "      <th>1</th>\n",
       "      <td>1</td>\n",
       "      <td>0.577181</td>\n",
       "      <td>0.577435</td>\n",
       "      <td>0.577435</td>\n",
       "      <td>0.000000e+00</td>\n",
       "      <td>2.857158e-14</td>\n",
       "      <td>9.142906e-13</td>\n",
       "      <td>2.857158e-14</td>\n",
       "      <td>5.714316e-14</td>\n",
       "      <td>2.471442e-10</td>\n",
       "    </tr>\n",
       "    <tr>\n",
       "      <th>2</th>\n",
       "      <td>2</td>\n",
       "      <td>0.577181</td>\n",
       "      <td>0.577435</td>\n",
       "      <td>0.577435</td>\n",
       "      <td>0.000000e+00</td>\n",
       "      <td>2.857158e-14</td>\n",
       "      <td>9.142906e-13</td>\n",
       "      <td>2.857158e-14</td>\n",
       "      <td>2.857158e-14</td>\n",
       "      <td>2.614300e-10</td>\n",
       "    </tr>\n",
       "    <tr>\n",
       "      <th>3</th>\n",
       "      <td>3</td>\n",
       "      <td>0.577181</td>\n",
       "      <td>0.577435</td>\n",
       "      <td>0.577435</td>\n",
       "      <td>0.000000e+00</td>\n",
       "      <td>2.857158e-14</td>\n",
       "      <td>9.142906e-13</td>\n",
       "      <td>5.714316e-14</td>\n",
       "      <td>2.857158e-14</td>\n",
       "      <td>2.971445e-10</td>\n",
       "    </tr>\n",
       "    <tr>\n",
       "      <th>4</th>\n",
       "      <td>4</td>\n",
       "      <td>0.577181</td>\n",
       "      <td>0.577435</td>\n",
       "      <td>0.577435</td>\n",
       "      <td>2.857157e-14</td>\n",
       "      <td>0.000000e+00</td>\n",
       "      <td>5.714314e-13</td>\n",
       "      <td>0.000000e+00</td>\n",
       "      <td>3.142872e-13</td>\n",
       "      <td>2.484869e-10</td>\n",
       "    </tr>\n",
       "  </tbody>\n",
       "</table>\n",
       "</div>"
      ],
      "text/plain": [
       "   Unnamed: 0  tic_date  dep_date  arr_date      airline        refund   \\\n",
       "0           0  0.577181  0.577435  0.577435  0.000000e+00  2.857158e-14   \n",
       "1           1  0.577181  0.577435  0.577435  0.000000e+00  2.857158e-14   \n",
       "2           2  0.577181  0.577435  0.577435  0.000000e+00  2.857158e-14   \n",
       "3           3  0.577181  0.577435  0.577435  0.000000e+00  2.857158e-14   \n",
       "4           4  0.577181  0.577435  0.577435  2.857157e-14  0.000000e+00   \n",
       "\n",
       "        bag_wt     bag_price     Flighi_no   Ticket_price   \n",
       "0  0.000000e+00  0.000000e+00  5.714316e-14   2.114297e-10  \n",
       "1  9.142906e-13  2.857158e-14  5.714316e-14   2.471442e-10  \n",
       "2  9.142906e-13  2.857158e-14  2.857158e-14   2.614300e-10  \n",
       "3  9.142906e-13  5.714316e-14  2.857158e-14   2.971445e-10  \n",
       "4  5.714314e-13  0.000000e+00  3.142872e-13   2.484869e-10  "
      ]
     },
     "execution_count": 4,
     "metadata": {},
     "output_type": "execute_result"
    }
   ],
   "source": [
    "# import dataset\n",
    "dataset = pd.read_csv('finaltrain.csv') \n",
    "# alternatively open up .csv file to read data\n",
    "# print the dataset\n",
    "dataset.head() \n"
   ]
  },
  {
   "cell_type": "code",
   "execution_count": 5,
   "metadata": {},
   "outputs": [],
   "source": [
    "dataset.drop(\"Unnamed: 0\",axis=1,inplace=True)"
   ]
  },
  {
   "cell_type": "code",
   "execution_count": 6,
   "metadata": {},
   "outputs": [
    {
     "data": {
      "text/html": [
       "<div>\n",
       "<style scoped>\n",
       "    .dataframe tbody tr th:only-of-type {\n",
       "        vertical-align: middle;\n",
       "    }\n",
       "\n",
       "    .dataframe tbody tr th {\n",
       "        vertical-align: top;\n",
       "    }\n",
       "\n",
       "    .dataframe thead th {\n",
       "        text-align: right;\n",
       "    }\n",
       "</style>\n",
       "<table border=\"1\" class=\"dataframe\">\n",
       "  <thead>\n",
       "    <tr style=\"text-align: right;\">\n",
       "      <th></th>\n",
       "      <th>tic_date</th>\n",
       "      <th>dep_date</th>\n",
       "      <th>arr_date</th>\n",
       "      <th>airline</th>\n",
       "      <th>refund</th>\n",
       "      <th>bag_wt</th>\n",
       "      <th>bag_price</th>\n",
       "      <th>Flighi_no</th>\n",
       "      <th>Ticket_price</th>\n",
       "    </tr>\n",
       "  </thead>\n",
       "  <tbody>\n",
       "    <tr>\n",
       "      <th>0</th>\n",
       "      <td>0.577181</td>\n",
       "      <td>0.577435</td>\n",
       "      <td>0.577435</td>\n",
       "      <td>0.000000e+00</td>\n",
       "      <td>2.857158e-14</td>\n",
       "      <td>0.000000e+00</td>\n",
       "      <td>0.000000e+00</td>\n",
       "      <td>5.714316e-14</td>\n",
       "      <td>2.114297e-10</td>\n",
       "    </tr>\n",
       "    <tr>\n",
       "      <th>1</th>\n",
       "      <td>0.577181</td>\n",
       "      <td>0.577435</td>\n",
       "      <td>0.577435</td>\n",
       "      <td>0.000000e+00</td>\n",
       "      <td>2.857158e-14</td>\n",
       "      <td>9.142906e-13</td>\n",
       "      <td>2.857158e-14</td>\n",
       "      <td>5.714316e-14</td>\n",
       "      <td>2.471442e-10</td>\n",
       "    </tr>\n",
       "    <tr>\n",
       "      <th>2</th>\n",
       "      <td>0.577181</td>\n",
       "      <td>0.577435</td>\n",
       "      <td>0.577435</td>\n",
       "      <td>0.000000e+00</td>\n",
       "      <td>2.857158e-14</td>\n",
       "      <td>9.142906e-13</td>\n",
       "      <td>2.857158e-14</td>\n",
       "      <td>2.857158e-14</td>\n",
       "      <td>2.614300e-10</td>\n",
       "    </tr>\n",
       "    <tr>\n",
       "      <th>3</th>\n",
       "      <td>0.577181</td>\n",
       "      <td>0.577435</td>\n",
       "      <td>0.577435</td>\n",
       "      <td>0.000000e+00</td>\n",
       "      <td>2.857158e-14</td>\n",
       "      <td>9.142906e-13</td>\n",
       "      <td>5.714316e-14</td>\n",
       "      <td>2.857158e-14</td>\n",
       "      <td>2.971445e-10</td>\n",
       "    </tr>\n",
       "    <tr>\n",
       "      <th>4</th>\n",
       "      <td>0.577181</td>\n",
       "      <td>0.577435</td>\n",
       "      <td>0.577435</td>\n",
       "      <td>2.857157e-14</td>\n",
       "      <td>0.000000e+00</td>\n",
       "      <td>5.714314e-13</td>\n",
       "      <td>0.000000e+00</td>\n",
       "      <td>3.142872e-13</td>\n",
       "      <td>2.484869e-10</td>\n",
       "    </tr>\n",
       "  </tbody>\n",
       "</table>\n",
       "</div>"
      ],
      "text/plain": [
       "   tic_date  dep_date  arr_date      airline        refund        bag_wt   \\\n",
       "0  0.577181  0.577435  0.577435  0.000000e+00  2.857158e-14  0.000000e+00   \n",
       "1  0.577181  0.577435  0.577435  0.000000e+00  2.857158e-14  9.142906e-13   \n",
       "2  0.577181  0.577435  0.577435  0.000000e+00  2.857158e-14  9.142906e-13   \n",
       "3  0.577181  0.577435  0.577435  0.000000e+00  2.857158e-14  9.142906e-13   \n",
       "4  0.577181  0.577435  0.577435  2.857157e-14  0.000000e+00  5.714314e-13   \n",
       "\n",
       "     bag_price     Flighi_no   Ticket_price   \n",
       "0  0.000000e+00  5.714316e-14   2.114297e-10  \n",
       "1  2.857158e-14  5.714316e-14   2.471442e-10  \n",
       "2  2.857158e-14  2.857158e-14   2.614300e-10  \n",
       "3  5.714316e-14  2.857158e-14   2.971445e-10  \n",
       "4  0.000000e+00  3.142872e-13   2.484869e-10  "
      ]
     },
     "execution_count": 6,
     "metadata": {},
     "output_type": "execute_result"
    }
   ],
   "source": [
    "dataset.head()"
   ]
  },
  {
   "cell_type": "code",
   "execution_count": 7,
   "metadata": {},
   "outputs": [],
   "source": [
    "x= dataset.iloc[:, 0:8].values\n",
    "y=dataset.iloc[:,8].values"
   ]
  },
  {
   "cell_type": "code",
   "execution_count": 8,
   "metadata": {},
   "outputs": [
    {
     "data": {
      "text/plain": [
       "array([5.77181133e-01, 5.77434819e-01, 5.77434819e-01, 0.00000000e+00,\n",
       "       2.85715821e-14, 0.00000000e+00, 0.00000000e+00, 5.71431642e-14])"
      ]
     },
     "execution_count": 8,
     "metadata": {},
     "output_type": "execute_result"
    }
   ],
   "source": [
    "x[0]"
   ]
  },
  {
   "cell_type": "code",
   "execution_count": 9,
   "metadata": {},
   "outputs": [
    {
     "data": {
      "text/plain": [
       "2.1142970754158496e-10"
      ]
     },
     "execution_count": 9,
     "metadata": {},
     "output_type": "execute_result"
    }
   ],
   "source": [
    "y[0]"
   ]
  },
  {
   "cell_type": "code",
   "execution_count": 10,
   "metadata": {},
   "outputs": [],
   "source": [
    "\n",
    "# splitting the data\n",
    "x_train, x_test, y_train, y_test = train_test_split(x, y, test_size = 0.2, random_state = 20)"
   ]
  },
  {
   "cell_type": "code",
   "execution_count": 11,
   "metadata": {},
   "outputs": [
    {
     "data": {
      "text/plain": [
       "LinearRegression()"
      ]
     },
     "execution_count": 11,
     "metadata": {},
     "output_type": "execute_result"
    }
   ],
   "source": [
    "#Fitting the Linear Regression to the dataset\n",
    "from sklearn.linear_model import LinearRegression  \n",
    "lin_regs= LinearRegression()  \n",
    "lin_regs.fit(x_train,y_train)"
   ]
  },
  {
   "cell_type": "code",
   "execution_count": 12,
   "metadata": {},
   "outputs": [
    {
     "data": {
      "text/plain": [
       "LinearRegression()"
      ]
     },
     "execution_count": 12,
     "metadata": {},
     "output_type": "execute_result"
    }
   ],
   "source": [
    "#Fitting the Polynomial regression to the dataset \n",
    "from sklearn.preprocessing import PolynomialFeatures  \n",
    "poly_regs= PolynomialFeatures(degree= 2)  \n",
    "x_poly= poly_regs.fit_transform(x_train)  \n",
    "lin_reg_2 =LinearRegression()  \n",
    "lin_reg_2.fit(x_poly, y_train) "
   ]
  },
  {
   "cell_type": "code",
   "execution_count": 13,
   "metadata": {},
   "outputs": [
    {
     "data": {
      "text/plain": [
       "DecisionTreeRegressor(random_state=0)"
      ]
     },
     "execution_count": 13,
     "metadata": {},
     "output_type": "execute_result"
    }
   ],
   "source": [
    "# fitting the model into decision tree regration\n",
    "from sklearn.tree import DecisionTreeRegressor \n",
    "  \n",
    "# create a regressor object\n",
    "regressor = DecisionTreeRegressor(random_state = 0) \n",
    "  \n",
    "# fit the regressor with X and Y data\n",
    "regressor.fit(x_train, y_train)"
   ]
  },
  {
   "cell_type": "code",
   "execution_count": 14,
   "metadata": {},
   "outputs": [],
   "source": [
    "# importing r2_score module\n",
    "from sklearn.metrics import r2_score\n",
    "from sklearn.metrics import mean_squared_error\n",
    "# predicting the accuracy score\n"
   ]
  },
  {
   "cell_type": "code",
   "execution_count": 15,
   "metadata": {},
   "outputs": [
    {
     "name": "stdout",
     "output_type": "stream",
     "text": [
      "[2.80364992e-10 2.67546502e-10 2.88931389e-10 ... 2.92165469e-10\n",
      " 2.85896039e-10 2.67827534e-10]\n"
     ]
    }
   ],
   "source": [
    "# predicted output for linear regration \n",
    "y_pred = lin_regs.predict(x_test)  \n",
    "print(y_pred)\n"
   ]
  },
  {
   "cell_type": "code",
   "execution_count": 18,
   "metadata": {},
   "outputs": [],
   "source": [
    "np.savetxt('ypred.csv', y_pred, delimiter=',') "
   ]
  },
  {
   "cell_type": "code",
   "execution_count": 16,
   "metadata": {},
   "outputs": [
    {
     "ename": "AttributeError",
     "evalue": "'numpy.ndarray' object has no attribute 'to_csv'",
     "output_type": "error",
     "traceback": [
      "\u001b[1;31m---------------------------------------------------------------------------\u001b[0m",
      "\u001b[1;31mAttributeError\u001b[0m                            Traceback (most recent call last)",
      "\u001b[1;32m~\\AppData\\Local\\Temp/ipykernel_11884/1558575293.py\u001b[0m in \u001b[0;36m<module>\u001b[1;34m\u001b[0m\n\u001b[1;32m----> 1\u001b[1;33m \u001b[0my_pred\u001b[0m\u001b[1;33m.\u001b[0m\u001b[0mto_csv\u001b[0m\u001b[1;33m(\u001b[0m\u001b[1;34m\"E:\\ml\\ml babaji\\datathon\\conferm\\pedicted.csv\"\u001b[0m\u001b[1;33m)\u001b[0m\u001b[1;33m\u001b[0m\u001b[1;33m\u001b[0m\u001b[0m\n\u001b[0m",
      "\u001b[1;31mAttributeError\u001b[0m: 'numpy.ndarray' object has no attribute 'to_csv'"
     ]
    }
   ],
   "source": [
    "y_pred.to_csv(\"E:\\ml\\ml babaji\\datathon\\conferm\\pedicted.csv\")"
   ]
  },
  {
   "cell_type": "code",
   "execution_count": null,
   "metadata": {},
   "outputs": [
    {
     "name": "stdout",
     "output_type": "stream",
     "text": [
      "0.067019944261972\n",
      "mean_sqrd_error is== 4.25417642768911e-21\n",
      "root_mean_squared error of is== 6.522404792474253e-11\n"
     ]
    }
   ],
   "source": [
    "scorel=r2_score(y_test,y_pred)\n",
    "print(scorel)\n",
    "mse=mean_squared_error(y_test,y_pred)\n",
    "print(\"mean_sqrd_error is==\",mse)\n",
    "rmsel=np.sqrt(mean_squared_error(y_test,y_pred))\n",
    "print(\"root_mean_squared error of is==\",rmsel)\n"
   ]
  },
  {
   "cell_type": "code",
   "execution_count": null,
   "metadata": {},
   "outputs": [
    {
     "name": "stdout",
     "output_type": "stream",
     "text": [
      "[2.80124368e-10 2.67391442e-10 2.87400326e-10 ... 2.92857294e-10\n",
      " 2.85581336e-10 2.67391442e-10]\n"
     ]
    }
   ],
   "source": [
    "# predicted output for polynomial regration \n",
    "yp_pred = lin_reg_2.predict(poly_regs.fit_transform(x_test))  \n",
    "print(yp_pred)"
   ]
  },
  {
   "cell_type": "code",
   "execution_count": null,
   "metadata": {},
   "outputs": [
    {
     "name": "stdout",
     "output_type": "stream",
     "text": [
      "0.06783362035008877\n",
      "mean_sqrd_error is== 4.2504662501643584e-21\n",
      "root_mean_squared error of is== 6.519559992947652e-11\n"
     ]
    }
   ],
   "source": [
    "scorep=r2_score(y_test,yp_pred)\n",
    "print(scorep)\n",
    "mse=mean_squared_error(y_test,yp_pred)\n",
    "print(\"mean_sqrd_error is==\",mse)\n",
    "rmsep=np.sqrt(mean_squared_error(y_test,yp_pred))\n",
    "print(\"root_mean_squared error of is==\",rmsep)"
   ]
  },
  {
   "cell_type": "code",
   "execution_count": null,
   "metadata": {},
   "outputs": [
    {
     "name": "stdout",
     "output_type": "stream",
     "text": [
      "[2.69474398e-10 2.69474398e-10 2.62581621e-10 ... 2.69474398e-10\n",
      " 2.62581621e-10 2.69474398e-10]\n"
     ]
    }
   ],
   "source": [
    "# predict the op for decission tree regration \n",
    "yd_pred = regressor.predict(x_test)\n",
    "print(yd_pred)\n"
   ]
  },
  {
   "cell_type": "code",
   "execution_count": null,
   "metadata": {},
   "outputs": [
    {
     "name": "stdout",
     "output_type": "stream",
     "text": [
      "0.004212120461991153\n",
      "mean_sqrd_error is== 4.540565790292329e-21\n",
      "root_mean_squared error of is== 6.73837205138773e-11\n"
     ]
    }
   ],
   "source": [
    "scored=r2_score(y_test,yd_pred)\n",
    "print(scored)\n",
    "mse=mean_squared_error(y_test,yd_pred)\n",
    "print(\"mean_sqrd_error is==\",mse)\n",
    "rmsed=np.sqrt(mean_squared_error(y_test,yd_pred))\n",
    "print(\"root_mean_squared error of is==\",rmsed)"
   ]
  },
  {
   "cell_type": "code",
   "execution_count": null,
   "metadata": {},
   "outputs": [],
   "source": [
    "import matplotlib.pyplot as plt"
   ]
  },
  {
   "cell_type": "code",
   "execution_count": null,
   "metadata": {},
   "outputs": [],
   "source": [
    "valuesr2=['scorel','scorep','scored']\n",
    "valuesrmse=['rmsel','rmsep','rmsed']"
   ]
  },
  {
   "cell_type": "code",
   "execution_count": null,
   "metadata": {},
   "outputs": [
    {
     "data": {
      "text/plain": [
       "<BarContainer object of 3 artists>"
      ]
     },
     "execution_count": 47,
     "metadata": {},
     "output_type": "execute_result"
    },
    {
     "data": {
      "image/png": "[encoded data removed]",
      "text/plain": [
       "<Figure size 432x288 with 1 Axes>"
      ]
     },
     "metadata": {
      "needs_background": "light"
     },
     "output_type": "display_data"
    }
   ],
   "source": [
    "plt.bar(valuesr2,scored , color ='maroon',width = 0.4)"
   ]
  },
  {
   "cell_type": "code",
   "execution_count": null,
   "metadata": {},
   "outputs": [
    {
     "data": {
      "text/plain": [
       "<BarContainer object of 3 artists>"
      ]
     },
     "execution_count": 50,
     "metadata": {},
     "output_type": "execute_result"
    },
    {
     "data": {
      "image/png": "[encoded data removed]",
      "text/plain": [
       "<Figure size 432x288 with 1 Axes>"
      ]
     },
     "metadata": {
      "needs_background": "light"
     },
     "output_type": "display_data"
    }
   ],
   "source": [
    "plt.bar(valuesrmse,rmse, color ='maroon',width = 0.4)"
   ]
  },
  {
   "cell_type": "markdown",
   "metadata": {},
   "source": [
    "# After looking all this I conclude that the algorithm which computers faster can be implemente in this implemented \n",
    "## now who is computing faster the answer is linear regration  "
   ]
  },
  {
   "cell_type": "markdown",
   "metadata": {},
   "source": []
  }
 ],
 "metadata": {
  "interpreter": {
   "hash": "8fac594bfae6525c0c41b4041d2d72effa188cc8ead05f81b1fab2bb098927fb"
  },
  "kernelspec": {
   "display_name": "Python 3.9.7 ('base')",
   "language": "python",
   "name": "python3"
  },
  "language_info": {
   "codemirror_mode": {
    "name": "ipython",
    "version": 3
   },
   "file_extension": ".py",
   "mimetype": "text/x-python",
   "name": "python",
   "nbconvert_exporter": "python",
   "pygments_lexer": "ipython3",
   "version": "3.9.7"
  },
  "orig_nbformat": 4
 },
 "nbformat": 4,
 "nbformat_minor": 2
}
