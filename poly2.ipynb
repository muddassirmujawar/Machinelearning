{
 "cells": [
  {
   "cell_type": "code",
   "execution_count": 1,
   "metadata": {},
   "outputs": [],
   "source": [
    "import numpy as nm  \n",
    "import matplotlib.pyplot as mtp  \n",
    "import pandas as pd  \n",
    "  "
   ]
  },
  {
   "cell_type": "code",
   "execution_count": 2,
   "metadata": {},
   "outputs": [],
   "source": [
    "scaled_df=pd.read_csv(\"normalizeddataset.csv\")"
   ]
  },
  {
   "cell_type": "code",
   "execution_count": 3,
   "metadata": {},
   "outputs": [
    {
     "data": {
      "text/html": [
       "<div>\n",
       "<style scoped>\n",
       "    .dataframe tbody tr th:only-of-type {\n",
       "        vertical-align: middle;\n",
       "    }\n",
       "\n",
       "    .dataframe tbody tr th {\n",
       "        vertical-align: top;\n",
       "    }\n",
       "\n",
       "    .dataframe thead th {\n",
       "        text-align: right;\n",
       "    }\n",
       "</style>\n",
       "<table border=\"1\" class=\"dataframe\">\n",
       "  <thead>\n",
       "    <tr style=\"text-align: right;\">\n",
       "      <th></th>\n",
       "      <th>Unnamed: 0</th>\n",
       "      <th>tic_date</th>\n",
       "      <th>dep_date</th>\n",
       "      <th>arr_date</th>\n",
       "      <th>airline</th>\n",
       "      <th>refund</th>\n",
       "      <th>bag_wt</th>\n",
       "      <th>bag_price</th>\n",
       "      <th>Flighi_no</th>\n",
       "      <th>Ticket_price</th>\n",
       "    </tr>\n",
       "  </thead>\n",
       "  <tbody>\n",
       "    <tr>\n",
       "      <th>0</th>\n",
       "      <td>0</td>\n",
       "      <td>0.577181</td>\n",
       "      <td>0.577435</td>\n",
       "      <td>0.577435</td>\n",
       "      <td>0.000000e+00</td>\n",
       "      <td>2.857158e-14</td>\n",
       "      <td>0.000000e+00</td>\n",
       "      <td>0.000000e+00</td>\n",
       "      <td>5.714316e-14</td>\n",
       "      <td>2.114297e-10</td>\n",
       "    </tr>\n",
       "    <tr>\n",
       "      <th>1</th>\n",
       "      <td>1</td>\n",
       "      <td>0.577181</td>\n",
       "      <td>0.577435</td>\n",
       "      <td>0.577435</td>\n",
       "      <td>0.000000e+00</td>\n",
       "      <td>2.857158e-14</td>\n",
       "      <td>9.142906e-13</td>\n",
       "      <td>2.857158e-14</td>\n",
       "      <td>5.714316e-14</td>\n",
       "      <td>2.471442e-10</td>\n",
       "    </tr>\n",
       "    <tr>\n",
       "      <th>2</th>\n",
       "      <td>2</td>\n",
       "      <td>0.577181</td>\n",
       "      <td>0.577435</td>\n",
       "      <td>0.577435</td>\n",
       "      <td>0.000000e+00</td>\n",
       "      <td>2.857158e-14</td>\n",
       "      <td>9.142906e-13</td>\n",
       "      <td>2.857158e-14</td>\n",
       "      <td>2.857158e-14</td>\n",
       "      <td>2.614300e-10</td>\n",
       "    </tr>\n",
       "    <tr>\n",
       "      <th>3</th>\n",
       "      <td>3</td>\n",
       "      <td>0.577181</td>\n",
       "      <td>0.577435</td>\n",
       "      <td>0.577435</td>\n",
       "      <td>0.000000e+00</td>\n",
       "      <td>2.857158e-14</td>\n",
       "      <td>9.142906e-13</td>\n",
       "      <td>5.714316e-14</td>\n",
       "      <td>2.857158e-14</td>\n",
       "      <td>2.971445e-10</td>\n",
       "    </tr>\n",
       "    <tr>\n",
       "      <th>4</th>\n",
       "      <td>4</td>\n",
       "      <td>0.577181</td>\n",
       "      <td>0.577435</td>\n",
       "      <td>0.577435</td>\n",
       "      <td>2.857157e-14</td>\n",
       "      <td>0.000000e+00</td>\n",
       "      <td>5.714314e-13</td>\n",
       "      <td>0.000000e+00</td>\n",
       "      <td>3.142872e-13</td>\n",
       "      <td>2.484869e-10</td>\n",
       "    </tr>\n",
       "  </tbody>\n",
       "</table>\n",
       "</div>"
      ],
      "text/plain": [
       "   Unnamed: 0  tic_date  dep_date  arr_date      airline        refund   \\\n",
       "0           0  0.577181  0.577435  0.577435  0.000000e+00  2.857158e-14   \n",
       "1           1  0.577181  0.577435  0.577435  0.000000e+00  2.857158e-14   \n",
       "2           2  0.577181  0.577435  0.577435  0.000000e+00  2.857158e-14   \n",
       "3           3  0.577181  0.577435  0.577435  0.000000e+00  2.857158e-14   \n",
       "4           4  0.577181  0.577435  0.577435  2.857157e-14  0.000000e+00   \n",
       "\n",
       "        bag_wt     bag_price     Flighi_no   Ticket_price   \n",
       "0  0.000000e+00  0.000000e+00  5.714316e-14   2.114297e-10  \n",
       "1  9.142906e-13  2.857158e-14  5.714316e-14   2.471442e-10  \n",
       "2  9.142906e-13  2.857158e-14  2.857158e-14   2.614300e-10  \n",
       "3  9.142906e-13  5.714316e-14  2.857158e-14   2.971445e-10  \n",
       "4  5.714314e-13  0.000000e+00  3.142872e-13   2.484869e-10  "
      ]
     },
     "execution_count": 3,
     "metadata": {},
     "output_type": "execute_result"
    }
   ],
   "source": [
    "scaled_df.head()"
   ]
  },
  {
   "cell_type": "code",
   "execution_count": 4,
   "metadata": {},
   "outputs": [],
   "source": [
    "x= scaled_df.iloc[:, 0:8].values\n",
    "y=scaled_df.iloc[:,8].values"
   ]
  },
  {
   "cell_type": "code",
   "execution_count": 13,
   "metadata": {},
   "outputs": [
    {
     "data": {
      "text/plain": [
       "5.714316420042837e-14"
      ]
     },
     "execution_count": 13,
     "metadata": {},
     "output_type": "execute_result"
    }
   ],
   "source": [
    "y[0]"
   ]
  },
  {
   "cell_type": "code",
   "execution_count": 5,
   "metadata": {},
   "outputs": [
    {
     "data": {
      "text/plain": [
       "LinearRegression()"
      ]
     },
     "execution_count": 5,
     "metadata": {},
     "output_type": "execute_result"
    }
   ],
   "source": [
    "#Fitting the Linear Regression to the dataset\n",
    "from sklearn.linear_model import LinearRegression  \n",
    "lin_regs= LinearRegression()  \n",
    "lin_regs.fit(x,y)"
   ]
  },
  {
   "cell_type": "code",
   "execution_count": 6,
   "metadata": {},
   "outputs": [
    {
     "data": {
      "text/plain": [
       "LinearRegression()"
      ]
     },
     "execution_count": 6,
     "metadata": {},
     "output_type": "execute_result"
    }
   ],
   "source": [
    "#Fitting the Polynomial regression to the dataset \n",
    "from sklearn.preprocessing import PolynomialFeatures  \n",
    "poly_regs= PolynomialFeatures(degree= 2)  \n",
    "x_poly= poly_regs.fit_transform(x)  \n",
    "lin_reg_2 =LinearRegression()  \n",
    "lin_reg_2.fit(x_poly, y) "
   ]
  },
  {
   "cell_type": "code",
   "execution_count": 9,
   "metadata": {},
   "outputs": [
    {
     "data": {
      "text/html": [
       "<div>\n",
       "<style scoped>\n",
       "    .dataframe tbody tr th:only-of-type {\n",
       "        vertical-align: middle;\n",
       "    }\n",
       "\n",
       "    .dataframe tbody tr th {\n",
       "        vertical-align: top;\n",
       "    }\n",
       "\n",
       "    .dataframe thead th {\n",
       "        text-align: right;\n",
       "    }\n",
       "</style>\n",
       "<table border=\"1\" class=\"dataframe\">\n",
       "  <thead>\n",
       "    <tr style=\"text-align: right;\">\n",
       "      <th></th>\n",
       "      <th>Unnamed: 0</th>\n",
       "      <th>tic_date</th>\n",
       "      <th>dep_date</th>\n",
       "      <th>arr_date</th>\n",
       "      <th>airline</th>\n",
       "      <th>refund</th>\n",
       "      <th>bag_wt</th>\n",
       "      <th>bag_price</th>\n",
       "      <th>Flighi_no</th>\n",
       "      <th>Ticket_price</th>\n",
       "    </tr>\n",
       "  </thead>\n",
       "  <tbody>\n",
       "    <tr>\n",
       "      <th>0</th>\n",
       "      <td>0</td>\n",
       "      <td>0.577181</td>\n",
       "      <td>0.577435</td>\n",
       "      <td>0.577435</td>\n",
       "      <td>0.000000e+00</td>\n",
       "      <td>2.857158e-14</td>\n",
       "      <td>0.000000e+00</td>\n",
       "      <td>0.000000e+00</td>\n",
       "      <td>5.714316e-14</td>\n",
       "      <td>2.114297e-10</td>\n",
       "    </tr>\n",
       "    <tr>\n",
       "      <th>1</th>\n",
       "      <td>1</td>\n",
       "      <td>0.577181</td>\n",
       "      <td>0.577435</td>\n",
       "      <td>0.577435</td>\n",
       "      <td>0.000000e+00</td>\n",
       "      <td>2.857158e-14</td>\n",
       "      <td>9.142906e-13</td>\n",
       "      <td>2.857158e-14</td>\n",
       "      <td>5.714316e-14</td>\n",
       "      <td>2.471442e-10</td>\n",
       "    </tr>\n",
       "    <tr>\n",
       "      <th>2</th>\n",
       "      <td>2</td>\n",
       "      <td>0.577181</td>\n",
       "      <td>0.577435</td>\n",
       "      <td>0.577435</td>\n",
       "      <td>0.000000e+00</td>\n",
       "      <td>2.857158e-14</td>\n",
       "      <td>9.142906e-13</td>\n",
       "      <td>2.857158e-14</td>\n",
       "      <td>2.857158e-14</td>\n",
       "      <td>2.614300e-10</td>\n",
       "    </tr>\n",
       "    <tr>\n",
       "      <th>3</th>\n",
       "      <td>3</td>\n",
       "      <td>0.577181</td>\n",
       "      <td>0.577435</td>\n",
       "      <td>0.577435</td>\n",
       "      <td>0.000000e+00</td>\n",
       "      <td>2.857158e-14</td>\n",
       "      <td>9.142906e-13</td>\n",
       "      <td>5.714316e-14</td>\n",
       "      <td>2.857158e-14</td>\n",
       "      <td>2.971445e-10</td>\n",
       "    </tr>\n",
       "    <tr>\n",
       "      <th>4</th>\n",
       "      <td>4</td>\n",
       "      <td>0.577181</td>\n",
       "      <td>0.577435</td>\n",
       "      <td>0.577435</td>\n",
       "      <td>2.857157e-14</td>\n",
       "      <td>0.000000e+00</td>\n",
       "      <td>5.714314e-13</td>\n",
       "      <td>0.000000e+00</td>\n",
       "      <td>3.142872e-13</td>\n",
       "      <td>2.484869e-10</td>\n",
       "    </tr>\n",
       "  </tbody>\n",
       "</table>\n",
       "</div>"
      ],
      "text/plain": [
       "   Unnamed: 0  tic_date  dep_date  arr_date      airline        refund   \\\n",
       "0           0  0.577181  0.577435  0.577435  0.000000e+00  2.857158e-14   \n",
       "1           1  0.577181  0.577435  0.577435  0.000000e+00  2.857158e-14   \n",
       "2           2  0.577181  0.577435  0.577435  0.000000e+00  2.857158e-14   \n",
       "3           3  0.577181  0.577435  0.577435  0.000000e+00  2.857158e-14   \n",
       "4           4  0.577181  0.577435  0.577435  2.857157e-14  0.000000e+00   \n",
       "\n",
       "        bag_wt     bag_price     Flighi_no   Ticket_price   \n",
       "0  0.000000e+00  0.000000e+00  5.714316e-14   2.114297e-10  \n",
       "1  9.142906e-13  2.857158e-14  5.714316e-14   2.471442e-10  \n",
       "2  9.142906e-13  2.857158e-14  2.857158e-14   2.614300e-10  \n",
       "3  9.142906e-13  5.714316e-14  2.857158e-14   2.971445e-10  \n",
       "4  5.714314e-13  0.000000e+00  3.142872e-13   2.484869e-10  "
      ]
     },
     "execution_count": 9,
     "metadata": {},
     "output_type": "execute_result"
    }
   ],
   "source": [
    "scaled_df.head()"
   ]
  },
  {
   "cell_type": "code",
   "execution_count": 10,
   "metadata": {},
   "outputs": [
    {
     "name": "stdout",
     "output_type": "stream",
     "text": [
      "[-3.53020992e-11]\n"
     ]
    }
   ],
   "source": [
    "tup=[0.577181,\t0.577435,\t0.577435,\t0.000000e+00,\t2.857158e-14,\t0.000000e+00,\t0.000000e+00,\t5.714316e-14]\n",
    "lin_pred = lin_regs.predict([tup])  \n",
    "print(lin_pred)"
   ]
  },
  {
   "cell_type": "code",
   "execution_count": 11,
   "metadata": {},
   "outputs": [
    {
     "name": "stdout",
     "output_type": "stream",
     "text": [
      "[1.58466493e-13]\n"
     ]
    }
   ],
   "source": [
    "poly_pred = lin_reg_2.predict(poly_regs.fit_transform([tup]))  \n",
    "print(poly_pred)"
   ]
  },
  {
   "cell_type": "code",
   "execution_count": null,
   "metadata": {},
   "outputs": [],
   "source": []
  }
 ],
 "metadata": {
  "interpreter": {
   "hash": "8fac594bfae6525c0c41b4041d2d72effa188cc8ead05f81b1fab2bb098927fb"
  },
  "kernelspec": {
   "display_name": "Python 3.9.7 ('base')",
   "language": "python",
   "name": "python3"
  },
  "language_info": {
   "codemirror_mode": {
    "name": "ipython",
    "version": 3
   },
   "file_extension": ".py",
   "mimetype": "text/x-python",
   "name": "python",
   "nbconvert_exporter": "python",
   "pygments_lexer": "ipython3",
   "version": "3.9.7"
  },
  "orig_nbformat": 4
 },
 "nbformat": 4,
 "nbformat_minor": 2
}
